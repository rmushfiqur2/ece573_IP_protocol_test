{
 "cells": [
  {
   "cell_type": "code",
   "execution_count": null,
   "metadata": {
    "collapsed": true,
    "pycharm": {
     "is_executing": true
    }
   },
   "outputs": [
    {
     "name": "stderr",
     "output_type": "stream",
     "text": [
      "[2024-03-03 00:06:07 -0500] [28069] [WARNING] ASGI Framework Lifespan error, continuing without Lifespan support\n",
      "[2024-03-03 00:06:07 -0500] [28069] [INFO] Running on http://0.0.0.0:8895 (CTRL + C to quit)\n"
     ]
    },
    {
     "name": "stdout",
     "output_type": "stream",
     "text": [
      "Server started on port 8895\n",
      "= [':8895']\n"
     ]
    }
   ],
   "source": [
    "import asyncio\n",
    "import hypercorn.asyncio\n",
    "from hypercorn.config import Config\n",
    "from urllib.parse import urlparse, unquote\n",
    "import os\n",
    "\n",
    "class SingleTCPHTTP2Server:\n",
    "    def __init__(self, host, port):\n",
    "        self.host = host\n",
    "        self.port = port\n",
    "        self.connection = None\n",
    "\n",
    "    async def process_request(self, scope, receive, send):\n",
    "\n",
    "        #print(\"self = \",self)\n",
    "        #print(\"scope = \",scope)\n",
    "        #print(\"scope path = \",scope['path'] ) # /Data_files/B_10MB\n",
    "        #print(\"receive = \",receive)\n",
    "        #print(\"send = \",send)\n",
    "        if scope['path'] == '/':\n",
    "            await send({\"type\": \"http.response.start\", \"status\": 404, \"headers\": []})\n",
    "            await send({\"type\": \"http.response.body\", \"body\": b\"File not found\"})\n",
    "            await receive()\n",
    "        else:\n",
    "            file_path = '.'+scope['path']\n",
    "            if os.path.isfile(file_path):\n",
    "                await send({\"type\": \"http.response.start\", \"status\": 200, \"headers\": []})\n",
    "                with open(file_path, 'rb') as file:\n",
    "                    file_content = file.read()\n",
    "                    await send({\"type\": \"http.response.body\", \"body\": file_content})\n",
    "                await receive()\n",
    "            else:\n",
    "                await send({\"type\": \"http.response.start\", \"status\": 404, \"headers\": []})\n",
    "                await send({\"type\": \"http.response.body\", \"body\": b\"Filessss not found\"})\n",
    "                await receive()\n",
    "\n",
    "    async def run_server(self):\n",
    "        config = Config()\n",
    "        config.bind = [f\"{self.host}:{self.port}\"]\n",
    "        print(\"=\",config.bind)\n",
    "        config.http2 = True\n",
    "        await hypercorn.asyncio.serve(self.process_request, config)\n",
    "\n",
    "# Run the server in an asyncio event loop\n",
    "async def main():\n",
    "    server = SingleTCPHTTP2Server('', 8895)\n",
    "    print('Server started on port 8895')\n",
    "    await server.run_server()\n",
    "\n",
    "await main()"
   ]
  },
  {
   "cell_type": "code",
   "execution_count": null,
   "outputs": [],
   "source": [],
   "metadata": {
    "collapsed": false
   }
  }
 ],
 "metadata": {
  "kernelspec": {
   "display_name": "Python 3",
   "language": "python",
   "name": "python3"
  },
  "language_info": {
   "codemirror_mode": {
    "name": "ipython",
    "version": 2
   },
   "file_extension": ".py",
   "mimetype": "text/x-python",
   "name": "python",
   "nbconvert_exporter": "python",
   "pygments_lexer": "ipython2",
   "version": "2.7.6"
  }
 },
 "nbformat": 4,
 "nbformat_minor": 0
}
