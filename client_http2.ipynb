{
 "cells": [
  {
   "cell_type": "code",
   "execution_count": null,
   "metadata": {
    "collapsed": true
   },
   "outputs": [],
   "source": [
    "import time\n",
    "import httpx\n",
    "import numpy as np\n",
    "\n",
    "async def transfer_http2(file_size, num_runs, source_url, destination_url):\n",
    "    #asynchronously, meaning it can pause and resume its execution at specific points\n",
    "      #without blocking the overall program's progress.\n",
    "    transfer_times = []\n",
    "    total_bytes_transferred = 0\n",
    "    async with httpx.AsyncClient(http2=True) as client:\n",
    "        #http2=True parameter indicates that the client should use HTTP/2 protocol for communication, enabling features\n",
    "          #like multiplexing, header compression, and server push.\n",
    "        for _ in range(num_runs):\n",
    "            start_time = time.time()\n",
    "            response = await client.get(source_url)\n",
    "            #with open(destination_url, 'wb') as f:\n",
    "                #f.write(response.content)\n",
    "            end_time = time.time()\n",
    "            transfer_time = end_time - start_time\n",
    "            transfer_times.append(transfer_time)\n",
    "            total_bytes_transferred += file_size\n",
    "            print('Ok')\n",
    "    return transfer_times, total_bytes_transferred\n",
    "\n",
    "#source_url_http2 = 'http://192.168.1.14:8000/A_10kB'  # Adjust server IP and port if needed\n",
    "#source_url_http2 = 'http://localhost:8892/A_10kB'  # Adjust server IP and port if needed\n",
    "source_url_http2 = 'http://localhost:8895/link.txt'  # Adjust server IP and port if needed\n",
    "destination_url_http2 = 'link2.txt'  # Save in local directory\n",
    "\n",
    "num_runs = 10\n",
    "\n",
    "transfer_times_http2, total_bytes_transferred = await transfer_http2(10 * 1024, num_runs, source_url_http2, destination_url_http2)\n",
    "\n",
    "average_transfer_time = np.mean(transfer_times_http2)\n",
    "std_dev_transfer_time = np.std(transfer_times_http2)\n",
    "\n",
    "# Calculate throughput statistics in kilobits per second\n",
    "total_transfer_time = sum(transfer_times_http2)\n",
    "#average_throughput_kbps = (total_bytes_transferred * 8 / 1000) / total_transfer_time  # Convert bytes to kilobits and seconds to kiloseconds\n",
    "average_throughput_kbps = (total_bytes_transferred * 8 / 1000) / num_runs  # Convert bytes to kilobits and seconds to kiloseconds\n",
    "std_dev_throughput_kbps = np.std(transfer_times_http2)\n",
    "\n",
    "print(\"Average Transfer Time:\", average_transfer_time)\n",
    "print(\"Standard Deviation of Transfer Time:\", std_dev_transfer_time)\n",
    "print(\"Average Throughput:\", average_throughput_kbps, \"kilobits per second\")\n",
    "print(\"Standard Deviation of Throughput:\", std_dev_throughput_kbps, \"kilobits per second\")"
   ]
  }
 ],
 "metadata": {
  "kernelspec": {
   "display_name": "Python 3",
   "language": "python",
   "name": "python3"
  },
  "language_info": {
   "codemirror_mode": {
    "name": "ipython",
    "version": 2
   },
   "file_extension": ".py",
   "mimetype": "text/x-python",
   "name": "python",
   "nbconvert_exporter": "python",
   "pygments_lexer": "ipython2",
   "version": "2.7.6"
  }
 },
 "nbformat": 4,
 "nbformat_minor": 0
}
