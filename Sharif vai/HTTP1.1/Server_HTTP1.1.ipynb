{
 "cells": [
  {
   "cell_type": "code",
   "execution_count": null,
   "id": "80db6c3a",
   "metadata": {},
   "outputs": [],
   "source": [
    "from http.server import HTTPServer, SimpleHTTPRequestHandler\n",
    "import time\n",
    "\n",
    "class MyRequestHandler(SimpleHTTPRequestHandler):\n",
    "    def do_GET(self):\n",
    "        start_time = time.time()  # Record start time\n",
    "        # Serve files from the current directory\n",
    "        SimpleHTTPRequestHandler.do_GET(self)\n",
    "        end_time = time.time()  # Record end time\n",
    "        transfer_time = end_time - start_time\n",
    "        print(f\"Transfer Time: {transfer_time} seconds\")\n",
    "\n",
    "server_address = ('', 8000)  # Listen on all interfaces on port 8000\n",
    "httpd = HTTPServer(server_address, MyRequestHandler)\n",
    "print('Server started on port 8000...')\n",
    "httpd.serve_forever()"
   ]
  }
 ],
 "metadata": {
  "kernelspec": {
   "display_name": "Python 3 (ipykernel)",
   "language": "python",
   "name": "python3"
  },
  "language_info": {
   "codemirror_mode": {
    "name": "ipython",
    "version": 3
   },
   "file_extension": ".py",
   "mimetype": "text/x-python",
   "name": "python",
   "nbconvert_exporter": "python",
   "pygments_lexer": "ipython3",
   "version": "3.10.9"
  }
 },
 "nbformat": 4,
 "nbformat_minor": 5
}
