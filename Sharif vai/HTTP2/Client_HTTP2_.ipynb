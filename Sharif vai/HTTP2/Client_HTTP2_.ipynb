{
 "cells": [
  {
   "cell_type": "code",
   "execution_count": 2,
   "id": "5a3651da",
   "metadata": {},
   "outputs": [
    {
     "name": "stdout",
     "output_type": "stream",
     "text": [
      "Average Transfer Time: 0.04941127300262451\n",
      "Standard Deviation of Transfer Time: 0.07306933392788752\n",
      "Average Throughput: 81.92 kilobits per second\n",
      "Standard Deviation of Throughput: 0.07306933392788752 kilobits per second\n"
     ]
    }
   ],
   "source": [
    "import time\n",
    "import httpx\n",
    "import numpy as np\n",
    "\n",
    "async def transfer_http2(file_size, num_runs, source_url, destination_url):\n",
    "    transfer_times = []\n",
    "    total_bytes_transferred = 0\n",
    "    async with httpx.AsyncClient(http2=True) as client:\n",
    "        for _ in range(num_runs):\n",
    "            start_time = time.time()\n",
    "            response = await client.get(source_url)\n",
    "            with open(destination_url, 'wb') as f:\n",
    "                f.write(response.content)\n",
    "            end_time = time.time()\n",
    "            transfer_time = end_time - start_time\n",
    "            transfer_times.append(transfer_time)\n",
    "            total_bytes_transferred += file_size\n",
    "    return transfer_times, total_bytes_transferred\n",
    "\n",
    "source_url_http2 = 'http://192.168.1.77:8000/A_10kB'  # Adjust server IP and port if needed\n",
    "destination_url_http2 = 'A_10kB'  # Save in local directory\n",
    "\n",
    "num_runs = 10\n",
    "\n",
    "transfer_times_http2, total_bytes_transferred = await transfer_http2(10 * 1024, num_runs, source_url_http2, destination_url_http2)\n",
    "\n",
    "average_transfer_time = np.mean(transfer_times_http2)\n",
    "std_dev_transfer_time = np.std(transfer_times_http2)\n",
    "\n",
    "# Calculate throughput statistics in kilobits per second\n",
    "total_transfer_time = sum(transfer_times_http2)\n",
    "#average_throughput_kbps = (total_bytes_transferred * 8 / 1000) / total_transfer_time  # Convert bytes to kilobits and seconds to kiloseconds\n",
    "average_throughput_kbps = (total_bytes_transferred * 8 / 1000) / num_runs  # Convert bytes to kilobits and seconds to kiloseconds\n",
    "std_dev_throughput_kbps = np.std(transfer_times_http2)\n",
    "\n",
    "print(\"Average Transfer Time:\", average_transfer_time)\n",
    "print(\"Standard Deviation of Transfer Time:\", std_dev_transfer_time)\n",
    "print(\"Average Throughput:\", average_throughput_kbps, \"kilobits per second\")\n",
    "print(\"Standard Deviation of Throughput:\", std_dev_throughput_kbps, \"kilobits per second\")"
   ]
  },
  {
   "cell_type": "code",
   "execution_count": null,
   "id": "e696dce3",
   "metadata": {},
   "outputs": [],
   "source": []
  }
 ],
 "metadata": {
  "kernelspec": {
   "display_name": "Python 3 (ipykernel)",
   "language": "python",
   "name": "python3"
  },
  "language_info": {
   "codemirror_mode": {
    "name": "ipython",
    "version": 3
   },
   "file_extension": ".py",
   "mimetype": "text/x-python",
   "name": "python",
   "nbconvert_exporter": "python",
   "pygments_lexer": "ipython3",
   "version": "3.10.9"
  }
 },
 "nbformat": 4,
 "nbformat_minor": 5
}
