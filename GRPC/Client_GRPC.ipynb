{
 "cells": [
  {
   "cell_type": "code",
   "execution_count": 1,
   "id": "c4bbba95",
   "metadata": {},
   "outputs": [
    {
     "name": "stdout",
     "output_type": "stream",
     "text": [
      "stub =  <chunk_pb2_grpc.FileServerStub object at 0x00000205BF350520>\n"
     ]
    },
    {
     "ename": "_MultiThreadedRendezvous",
     "evalue": "<_MultiThreadedRendezvous of RPC that terminated with:\n\tstatus = StatusCode.UNAVAILABLE\n\tdetails = \"DNS resolution failed for 172.17.102.16:50055/link.txt: UNAVAILABLE: WSA Error\"\n\tdebug_error_string = \"UNKNOWN:Error received from peer  {created_time:\"2024-02-29T21:39:29.4349393+00:00\", grpc_status:14, grpc_message:\"DNS resolution failed for 172.17.102.16:50055/link.txt: UNAVAILABLE: WSA Error\"}\"\n>",
     "output_type": "error",
     "traceback": [
      "\u001b[1;31m---------------------------------------------------------------------------\u001b[0m",
      "\u001b[1;31m_MultiThreadedRendezvous\u001b[0m                  Traceback (most recent call last)",
      "Cell \u001b[1;32mIn[1], line 45\u001b[0m\n\u001b[0;32m     42\u001b[0m file_size \u001b[38;5;241m=\u001b[39m \u001b[38;5;241m10\u001b[39m \u001b[38;5;241m*\u001b[39m \u001b[38;5;241m1024\u001b[39m  \u001b[38;5;66;03m# 10KB\u001b[39;00m\n\u001b[0;32m     43\u001b[0m num_runs \u001b[38;5;241m=\u001b[39m \u001b[38;5;241m10\u001b[39m\n\u001b[1;32m---> 45\u001b[0m transfer_times_grpc, throughput_values, total_bytes_transferred \u001b[38;5;241m=\u001b[39m \u001b[43mtransfer_grpc\u001b[49m\u001b[43m(\u001b[49m\u001b[43mfile_size\u001b[49m\u001b[43m,\u001b[49m\u001b[43m \u001b[49m\u001b[43mnum_runs\u001b[49m\u001b[43m,\u001b[49m\u001b[43m \u001b[49m\u001b[43msource_url_grpc\u001b[49m\u001b[43m,\u001b[49m\u001b[43m \u001b[49m\u001b[43mdestination_url_grpc\u001b[49m\u001b[43m)\u001b[49m\n\u001b[0;32m     47\u001b[0m average_transfer_time \u001b[38;5;241m=\u001b[39m np\u001b[38;5;241m.\u001b[39mmean(transfer_times_grpc)\n\u001b[0;32m     48\u001b[0m std_dev_transfer_time \u001b[38;5;241m=\u001b[39m np\u001b[38;5;241m.\u001b[39mstd(transfer_times_grpc)\n",
      "Cell \u001b[1;32mIn[1], line 25\u001b[0m, in \u001b[0;36mtransfer_grpc\u001b[1;34m(file_size, num_runs, source_url, destination_url)\u001b[0m\n\u001b[0;32m     21\u001b[0m response \u001b[38;5;241m=\u001b[39m stub\u001b[38;5;241m.\u001b[39mdownload(chunk_pb2\u001b[38;5;241m.\u001b[39mRequest(name\u001b[38;5;241m=\u001b[39mdestination_url))\n\u001b[0;32m     23\u001b[0m \u001b[38;5;28;01mwith\u001b[39;00m \u001b[38;5;28mopen\u001b[39m(destination_url, \u001b[38;5;124m'\u001b[39m\u001b[38;5;124mwb\u001b[39m\u001b[38;5;124m'\u001b[39m) \u001b[38;5;28;01mas\u001b[39;00m f:\n\u001b[0;32m     24\u001b[0m     \u001b[38;5;66;03m#f.write(response.file_content)\u001b[39;00m\n\u001b[1;32m---> 25\u001b[0m     \u001b[38;5;28;01mfor\u001b[39;00m chunk \u001b[38;5;129;01min\u001b[39;00m response:\n\u001b[0;32m     26\u001b[0m         f\u001b[38;5;241m.\u001b[39mwrite(chunk\u001b[38;5;241m.\u001b[39mbuffer)\n\u001b[0;32m     27\u001b[0m end_time \u001b[38;5;241m=\u001b[39m time\u001b[38;5;241m.\u001b[39mtime()\n",
      "File \u001b[1;32m~\\AppData\\Roaming\\Python\\Python310\\site-packages\\grpc\\_channel.py:542\u001b[0m, in \u001b[0;36m_Rendezvous.__next__\u001b[1;34m(self)\u001b[0m\n\u001b[0;32m    541\u001b[0m \u001b[38;5;28;01mdef\u001b[39;00m \u001b[38;5;21m__next__\u001b[39m(\u001b[38;5;28mself\u001b[39m):\n\u001b[1;32m--> 542\u001b[0m     \u001b[38;5;28;01mreturn\u001b[39;00m \u001b[38;5;28;43mself\u001b[39;49m\u001b[38;5;241;43m.\u001b[39;49m\u001b[43m_next\u001b[49m\u001b[43m(\u001b[49m\u001b[43m)\u001b[49m\n",
      "File \u001b[1;32m~\\AppData\\Roaming\\Python\\Python310\\site-packages\\grpc\\_channel.py:968\u001b[0m, in \u001b[0;36m_MultiThreadedRendezvous._next\u001b[1;34m(self)\u001b[0m\n\u001b[0;32m    966\u001b[0m     \u001b[38;5;28;01mraise\u001b[39;00m \u001b[38;5;167;01mStopIteration\u001b[39;00m()\n\u001b[0;32m    967\u001b[0m \u001b[38;5;28;01melif\u001b[39;00m \u001b[38;5;28mself\u001b[39m\u001b[38;5;241m.\u001b[39m_state\u001b[38;5;241m.\u001b[39mcode \u001b[38;5;129;01mis\u001b[39;00m \u001b[38;5;129;01mnot\u001b[39;00m \u001b[38;5;28;01mNone\u001b[39;00m:\n\u001b[1;32m--> 968\u001b[0m     \u001b[38;5;28;01mraise\u001b[39;00m \u001b[38;5;28mself\u001b[39m\n",
      "\u001b[1;31m_MultiThreadedRendezvous\u001b[0m: <_MultiThreadedRendezvous of RPC that terminated with:\n\tstatus = StatusCode.UNAVAILABLE\n\tdetails = \"DNS resolution failed for 172.17.102.16:50055/link.txt: UNAVAILABLE: WSA Error\"\n\tdebug_error_string = \"UNKNOWN:Error received from peer  {created_time:\"2024-02-29T21:39:29.4349393+00:00\", grpc_status:14, grpc_message:\"DNS resolution failed for 172.17.102.16:50055/link.txt: UNAVAILABLE: WSA Error\"}\"\n>"
     ]
    }
   ],
   "source": [
    "import time\n",
    "import grpc\n",
    "import chunk_pb2  # Import your generated protobuf file\n",
    "import chunk_pb2_grpc  # Import your generated gRPC file\n",
    "import numpy as np\n",
    "\n",
    "def transfer_grpc(file_size, num_runs, source_url, destination_url):\n",
    "    transfer_times = []\n",
    "    throughput_values = []\n",
    "    total_bytes_transferred = 0\n",
    "\n",
    "    for _ in range(num_runs):\n",
    "        start_time = time.time()\n",
    "        with grpc.insecure_channel(source_url) as channel:\n",
    "            stub = chunk_pb2_grpc.FileServerStub(channel)\n",
    "            print(\"stub = \",stub)\n",
    "            #response = stub.TransferFile(chunk_pb2.TransferRequest(file_size=file_size))\n",
    "            #response = stub.download(chunk_pb2.download(file_size=file_size))\n",
    "            #response = stub.TransferFile(chunk_pb2.TransferRequest(file_size=file_size))\n",
    "            #response = stub.download(chunk_pb2_grpc.TransferRequest(file_size=file_size))\n",
    "            response = stub.download(chunk_pb2.Request(name=destination_url))\n",
    "\n",
    "            with open(destination_url, 'wb') as f:\n",
    "                #f.write(response.file_content)\n",
    "                for chunk in response:\n",
    "                    f.write(chunk.buffer)\n",
    "            end_time = time.time()\n",
    "            transfer_time = end_time - start_time\n",
    "            transfer_times.append(transfer_time)\n",
    "            total_bytes_transferred += file_size\n",
    "            throughput = file_size / transfer_time\n",
    "            throughput_values.append(throughput)\n",
    "            print(\"Ok\")\n",
    "    return transfer_times, throughput_values, total_bytes_transferred\n",
    "\n",
    "#source_url_grpc = '127.0.0.1:50054/link.txt'  # Adjust server IP and port if needed\n",
    "#source_url_grpc = '192.168.1.11:50054/link.txt'  # Adjust server IP and port if needed\n",
    "#source_url_grpc = 'localhost:50055/link.txt'  # Adjust server IP and port if needed\n",
    "source_url_grpc = '172.17.102.16:50055/link.txt'  # Adjust server IP and port if needed\n",
    "\n",
    "destination_url_grpc = 'link2.txt'  # Save in local directory\n",
    "file_size = 10 * 1024  # 10KB\n",
    "num_runs = 10\n",
    "\n",
    "transfer_times_grpc, throughput_values, total_bytes_transferred = transfer_grpc(file_size, num_runs, source_url_grpc, destination_url_grpc)\n",
    "\n",
    "average_transfer_time = np.mean(transfer_times_grpc)\n",
    "std_dev_transfer_time = np.std(transfer_times_grpc)\n",
    "\n",
    "total_transfer_time = sum(transfer_times_grpc)\n",
    "average_throughput = total_bytes_transferred / total_transfer_time\n",
    "std_dev_throughput = np.std(throughput_values)\n",
    "\n",
    "print(\"Average Transfer Time:\", average_transfer_time)\n",
    "print(\"Standard Deviation of Transfer Time:\", std_dev_transfer_time)\n",
    "print(\"Average Throughput:\", average_throughput, \"bytes per second\")\n",
    "print(\"Standard Deviation of Throughput:\", std_dev_throughput, \"bytes per second\")\n"
   ]
  },
  {
   "cell_type": "code",
   "execution_count": null,
   "id": "d27b48cf",
   "metadata": {},
   "outputs": [],
   "source": []
  }
 ],
 "metadata": {
  "kernelspec": {
   "display_name": "Python 3 (ipykernel)",
   "language": "python",
   "name": "python3"
  },
  "language_info": {
   "codemirror_mode": {
    "name": "ipython",
    "version": 3
   },
   "file_extension": ".py",
   "mimetype": "text/x-python",
   "name": "python",
   "nbconvert_exporter": "python",
   "pygments_lexer": "ipython3",
   "version": "3.10.9"
  }
 },
 "nbformat": 4,
 "nbformat_minor": 5
}
