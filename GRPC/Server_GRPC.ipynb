{
 "cells": [
  {
   "cell_type": "code",
   "execution_count": 1,
   "id": "9a076740",
   "metadata": {},
   "outputs": [
    {
     "name": "stdout",
     "output_type": "stream",
     "text": [
      "Server port: 50055\n"
     ]
    },
    {
     "ename": "KeyboardInterrupt",
     "evalue": "",
     "output_type": "error",
     "traceback": [
      "\u001B[0;31m---------------------------------------------------------------------------\u001B[0m",
      "\u001B[0;31mKeyboardInterrupt\u001B[0m                         Traceback (most recent call last)",
      "Cell \u001B[0;32mIn[1], line 37\u001B[0m\n\u001B[1;32m     34\u001B[0m \u001B[38;5;28mprint\u001B[39m(\u001B[38;5;124m\"\u001B[39m\u001B[38;5;124mServer port: 50055\u001B[39m\u001B[38;5;124m\"\u001B[39m)\n\u001B[1;32m     36\u001B[0m \u001B[38;5;28;01mif\u001B[39;00m \u001B[38;5;18m__name__\u001B[39m \u001B[38;5;241m==\u001B[39m \u001B[38;5;124m'\u001B[39m\u001B[38;5;124m__main__\u001B[39m\u001B[38;5;124m'\u001B[39m:\n\u001B[0;32m---> 37\u001B[0m     \u001B[43mserve\u001B[49m\u001B[43m(\u001B[49m\u001B[43m)\u001B[49m\n",
      "Cell \u001B[0;32mIn[1], line 31\u001B[0m, in \u001B[0;36mserve\u001B[0;34m()\u001B[0m\n\u001B[1;32m     29\u001B[0m server\u001B[38;5;241m.\u001B[39madd_insecure_port(\u001B[38;5;124m'\u001B[39m\u001B[38;5;124m[::]:50055\u001B[39m\u001B[38;5;124m'\u001B[39m)  \u001B[38;5;66;03m# Adjust port as needed\u001B[39;00m\n\u001B[1;32m     30\u001B[0m server\u001B[38;5;241m.\u001B[39mstart()\n\u001B[0;32m---> 31\u001B[0m \u001B[43mserver\u001B[49m\u001B[38;5;241;43m.\u001B[39;49m\u001B[43mwait_for_termination\u001B[49m\u001B[43m(\u001B[49m\u001B[43m)\u001B[49m\n",
      "File \u001B[0;32m~/anaconda3/envs/DF/lib/python3.8/site-packages/grpc/_server.py:1350\u001B[0m, in \u001B[0;36m_Server.wait_for_termination\u001B[0;34m(self, timeout)\u001B[0m\n\u001B[1;32m   1346\u001B[0m \u001B[38;5;28;01mdef\u001B[39;00m \u001B[38;5;21mwait_for_termination\u001B[39m(\u001B[38;5;28mself\u001B[39m, timeout: Optional[\u001B[38;5;28mfloat\u001B[39m] \u001B[38;5;241m=\u001B[39m \u001B[38;5;28;01mNone\u001B[39;00m) \u001B[38;5;241m-\u001B[39m\u001B[38;5;241m>\u001B[39m \u001B[38;5;28mbool\u001B[39m:\n\u001B[1;32m   1347\u001B[0m     \u001B[38;5;66;03m# NOTE(https://bugs.python.org/issue35935)\u001B[39;00m\n\u001B[1;32m   1348\u001B[0m     \u001B[38;5;66;03m# Remove this workaround once threading.Event.wait() is working with\u001B[39;00m\n\u001B[1;32m   1349\u001B[0m     \u001B[38;5;66;03m# CTRL+C across platforms.\u001B[39;00m\n\u001B[0;32m-> 1350\u001B[0m     \u001B[38;5;28;01mreturn\u001B[39;00m \u001B[43m_common\u001B[49m\u001B[38;5;241;43m.\u001B[39;49m\u001B[43mwait\u001B[49m\u001B[43m(\u001B[49m\n\u001B[1;32m   1351\u001B[0m \u001B[43m        \u001B[49m\u001B[38;5;28;43mself\u001B[39;49m\u001B[38;5;241;43m.\u001B[39;49m\u001B[43m_state\u001B[49m\u001B[38;5;241;43m.\u001B[39;49m\u001B[43mtermination_event\u001B[49m\u001B[38;5;241;43m.\u001B[39;49m\u001B[43mwait\u001B[49m\u001B[43m,\u001B[49m\n\u001B[1;32m   1352\u001B[0m \u001B[43m        \u001B[49m\u001B[38;5;28;43mself\u001B[39;49m\u001B[38;5;241;43m.\u001B[39;49m\u001B[43m_state\u001B[49m\u001B[38;5;241;43m.\u001B[39;49m\u001B[43mtermination_event\u001B[49m\u001B[38;5;241;43m.\u001B[39;49m\u001B[43mis_set\u001B[49m\u001B[43m,\u001B[49m\n\u001B[1;32m   1353\u001B[0m \u001B[43m        \u001B[49m\u001B[43mtimeout\u001B[49m\u001B[38;5;241;43m=\u001B[39;49m\u001B[43mtimeout\u001B[49m\u001B[43m,\u001B[49m\n\u001B[1;32m   1354\u001B[0m \u001B[43m    \u001B[49m\u001B[43m)\u001B[49m\n",
      "File \u001B[0;32m~/anaconda3/envs/DF/lib/python3.8/site-packages/grpc/_common.py:156\u001B[0m, in \u001B[0;36mwait\u001B[0;34m(wait_fn, wait_complete_fn, timeout, spin_cb)\u001B[0m\n\u001B[1;32m    154\u001B[0m \u001B[38;5;28;01mif\u001B[39;00m timeout \u001B[38;5;129;01mis\u001B[39;00m \u001B[38;5;28;01mNone\u001B[39;00m:\n\u001B[1;32m    155\u001B[0m     \u001B[38;5;28;01mwhile\u001B[39;00m \u001B[38;5;129;01mnot\u001B[39;00m wait_complete_fn():\n\u001B[0;32m--> 156\u001B[0m         \u001B[43m_wait_once\u001B[49m\u001B[43m(\u001B[49m\u001B[43mwait_fn\u001B[49m\u001B[43m,\u001B[49m\u001B[43m \u001B[49m\u001B[43mMAXIMUM_WAIT_TIMEOUT\u001B[49m\u001B[43m,\u001B[49m\u001B[43m \u001B[49m\u001B[43mspin_cb\u001B[49m\u001B[43m)\u001B[49m\n\u001B[1;32m    157\u001B[0m \u001B[38;5;28;01melse\u001B[39;00m:\n\u001B[1;32m    158\u001B[0m     end \u001B[38;5;241m=\u001B[39m time\u001B[38;5;241m.\u001B[39mtime() \u001B[38;5;241m+\u001B[39m timeout\n",
      "File \u001B[0;32m~/anaconda3/envs/DF/lib/python3.8/site-packages/grpc/_common.py:116\u001B[0m, in \u001B[0;36m_wait_once\u001B[0;34m(wait_fn, timeout, spin_cb)\u001B[0m\n\u001B[1;32m    111\u001B[0m \u001B[38;5;28;01mdef\u001B[39;00m \u001B[38;5;21m_wait_once\u001B[39m(\n\u001B[1;32m    112\u001B[0m     wait_fn: Callable[\u001B[38;5;241m.\u001B[39m\u001B[38;5;241m.\u001B[39m\u001B[38;5;241m.\u001B[39m, \u001B[38;5;28mbool\u001B[39m],\n\u001B[1;32m    113\u001B[0m     timeout: \u001B[38;5;28mfloat\u001B[39m,\n\u001B[1;32m    114\u001B[0m     spin_cb: Optional[Callable[[], \u001B[38;5;28;01mNone\u001B[39;00m]],\n\u001B[1;32m    115\u001B[0m ):\n\u001B[0;32m--> 116\u001B[0m     \u001B[43mwait_fn\u001B[49m\u001B[43m(\u001B[49m\u001B[43mtimeout\u001B[49m\u001B[38;5;241;43m=\u001B[39;49m\u001B[43mtimeout\u001B[49m\u001B[43m)\u001B[49m\n\u001B[1;32m    117\u001B[0m     \u001B[38;5;28;01mif\u001B[39;00m spin_cb \u001B[38;5;129;01mis\u001B[39;00m \u001B[38;5;129;01mnot\u001B[39;00m \u001B[38;5;28;01mNone\u001B[39;00m:\n\u001B[1;32m    118\u001B[0m         spin_cb()\n",
      "File \u001B[0;32m~/anaconda3/envs/DF/lib/python3.8/threading.py:558\u001B[0m, in \u001B[0;36mEvent.wait\u001B[0;34m(self, timeout)\u001B[0m\n\u001B[1;32m    556\u001B[0m signaled \u001B[38;5;241m=\u001B[39m \u001B[38;5;28mself\u001B[39m\u001B[38;5;241m.\u001B[39m_flag\n\u001B[1;32m    557\u001B[0m \u001B[38;5;28;01mif\u001B[39;00m \u001B[38;5;129;01mnot\u001B[39;00m signaled:\n\u001B[0;32m--> 558\u001B[0m     signaled \u001B[38;5;241m=\u001B[39m \u001B[38;5;28;43mself\u001B[39;49m\u001B[38;5;241;43m.\u001B[39;49m\u001B[43m_cond\u001B[49m\u001B[38;5;241;43m.\u001B[39;49m\u001B[43mwait\u001B[49m\u001B[43m(\u001B[49m\u001B[43mtimeout\u001B[49m\u001B[43m)\u001B[49m\n\u001B[1;32m    559\u001B[0m \u001B[38;5;28;01mreturn\u001B[39;00m signaled\n",
      "File \u001B[0;32m~/anaconda3/envs/DF/lib/python3.8/threading.py:306\u001B[0m, in \u001B[0;36mCondition.wait\u001B[0;34m(self, timeout)\u001B[0m\n\u001B[1;32m    304\u001B[0m \u001B[38;5;28;01melse\u001B[39;00m:\n\u001B[1;32m    305\u001B[0m     \u001B[38;5;28;01mif\u001B[39;00m timeout \u001B[38;5;241m>\u001B[39m \u001B[38;5;241m0\u001B[39m:\n\u001B[0;32m--> 306\u001B[0m         gotit \u001B[38;5;241m=\u001B[39m \u001B[43mwaiter\u001B[49m\u001B[38;5;241;43m.\u001B[39;49m\u001B[43macquire\u001B[49m\u001B[43m(\u001B[49m\u001B[38;5;28;43;01mTrue\u001B[39;49;00m\u001B[43m,\u001B[49m\u001B[43m \u001B[49m\u001B[43mtimeout\u001B[49m\u001B[43m)\u001B[49m\n\u001B[1;32m    307\u001B[0m     \u001B[38;5;28;01melse\u001B[39;00m:\n\u001B[1;32m    308\u001B[0m         gotit \u001B[38;5;241m=\u001B[39m waiter\u001B[38;5;241m.\u001B[39macquire(\u001B[38;5;28;01mFalse\u001B[39;00m)\n",
      "\u001B[0;31mKeyboardInterrupt\u001B[0m: "
     ]
    }
   ],
   "source": [
    "import grpc\n",
    "import chunk_pb2  # Import your generated protobuf file\n",
    "import chunk_pb2_grpc  # Import your generated gRPC file\n",
    "import time\n",
    "import os\n",
    "\n",
    "import grpc\n",
    "from concurrent import futures  # Add this line to import futures module\n",
    "\n",
    "# Rest of your code...\n",
    "\n",
    "\n",
    "#class FileTransferServicer(chunk_pb2_grpc.FileTransferServiceServicer):\n",
    "class FileTransferServicer(chunk_pb2_grpc.FileServerServicer):\n",
    "    def TransferFile(self, request, context):\n",
    "        start_time = time.time()\n",
    "        # Assuming you have a function to read the file content\n",
    "        file_content = read_file_content(request.file_size)\n",
    "        end_time = time.time()\n",
    "        transfer_time = end_time - start_time\n",
    "        throughput = request.file_size / transfer_time\n",
    "        print(\"Transfer time:\", transfer_time)\n",
    "        print(\"Throughput:\", throughput, \"bytes per second\")\n",
    "        return your_pb2.TransferResponse(file_content=file_content)\n",
    "\n",
    "def serve():\n",
    "    server = grpc.server(futures.ThreadPoolExecutor(max_workers=10))\n",
    "    chunk_pb2_grpc.add_FileServerServicer_to_server(FileTransferServicer(), server)\n",
    "    server.add_insecure_port('[::]:50055')  # Adjust port as needed\n",
    "    server.start()\n",
    "    server.wait_for_termination()\n",
    "\n",
    "os.environ['PROTOCOL_BUFFERS_PYTHON_IMPLEMENTATION'] = 'python'\n",
    "print(\"Server port: 50055\")\n",
    "    \n",
    "if __name__ == '__main__':\n",
    "    serve()\n"
   ]
  },
  {
   "cell_type": "code",
   "execution_count": 2,
   "id": "c6ca4743",
   "metadata": {},
   "outputs": [
    {
     "name": "stdout",
     "output_type": "stream",
     "text": [
      "Defaulting to user installation because normal site-packages is not writeable\n",
      "Collecting grpcio\n",
      "  Downloading grpcio-1.62.0-cp310-cp310-win_amd64.whl (3.8 MB)\n",
      "     ---------------------------------------- 3.8/3.8 MB 4.8 MB/s eta 0:00:00\n",
      "Installing collected packages: grpcio\n",
      "Successfully installed grpcio-1.62.0\n"
     ]
    }
   ],
   "source": [
    "!pip install grpcio"
   ]
  },
  {
   "cell_type": "code",
   "execution_count": 2,
   "id": "d6462cb0",
   "metadata": {},
   "outputs": [
    {
     "name": "stdout",
     "output_type": "stream",
     "text": [
      "Defaulting to user installation because normal site-packages is not writeable\n",
      "Collecting protobuf\n",
      "  Downloading protobuf-4.25.3-cp310-abi3-win_amd64.whl (413 kB)\n",
      "     -------------------------------------- 413.4/413.4 kB 2.0 MB/s eta 0:00:00\n",
      "Installing collected packages: protobuf\n",
      "Successfully installed protobuf-4.25.3\n",
      "Note: you may need to restart the kernel to use updated packages.\n"
     ]
    }
   ],
   "source": [
    "!pip install protobuf == 3.20.0"
   ]
  },
  {
   "cell_type": "code",
   "execution_count": null,
   "id": "1c229e55",
   "metadata": {},
   "outputs": [],
   "source": [
    "pip uninstall protobuf"
   ]
  },
  {
   "cell_type": "code",
   "execution_count": null,
   "id": "ecf6f594",
   "metadata": {
    "pycharm": {
     "is_executing": true
    }
   },
   "outputs": [
    {
     "name": "stderr",
     "output_type": "stream",
     "text": [
      "INFO:root:Server started. Listening on port 50054\n"
     ]
    }
   ],
   "source": [
    "import grpc\n",
    "import chunk_pb2  # Import your generated protobuf file\n",
    "import chunk_pb2_grpc  # Import your generated gRPC file\n",
    "import time\n",
    "import os\n",
    "import logging\n",
    "\n",
    "from concurrent import futures  # Add this line to import futures module\n",
    "\n",
    "class FileTransferServicer(chunk_pb2_grpc.FileServerServicer):\n",
    "    def TransferFile(self, request, context):\n",
    "        try:\n",
    "            start_time = time.time()\n",
    "            # Assuming you have a function to read the file content\n",
    "            file_content = read_file_content(request.file_size)\n",
    "            end_time = time.time()\n",
    "            transfer_time = end_time - start_time\n",
    "            throughput = request.file_size / transfer_time\n",
    "            logging.info(f\"Transfer time: {transfer_time}\")\n",
    "            logging.info(f\"Throughput: {throughput} bytes per second\")\n",
    "            return chunk_pb2.TransferResponse(file_content=file_content)\n",
    "        except Exception as e:\n",
    "            logging.error(f\"Error transferring file: {e}\")\n",
    "            context.set_details(f\"Error transferring file: {e}\")\n",
    "            context.set_code(grpc.StatusCode.INTERNAL)\n",
    "            return chunk_pb2.TransferResponse()\n",
    "\n",
    "def read_file_content(file_size):\n",
    "    # Your implementation to read file content goes here\n",
    "    pass\n",
    "\n",
    "def serve():\n",
    "    try:\n",
    "        server = grpc.server(futures.ThreadPoolExecutor(max_workers=10))\n",
    "        chunk_pb2_grpc.add_FileServerServicer_to_server(FileTransferServicer(), server)\n",
    "        server.add_insecure_port('[::]:50054')  # Adjust port as needed\n",
    "        server.start()\n",
    "        logging.info(\"Server started. Listening on port 50054\")\n",
    "        server.wait_for_termination()\n",
    "    except Exception as e:\n",
    "        logging.error(f\"Error starting server: {e}\")\n",
    "\n",
    "if __name__ == '__main__':\n",
    "    # Configure logging\n",
    "    logging.basicConfig(level=logging.INFO)\n",
    "    os.environ['PROTOCOL_BUFFERS_PYTHON_IMPLEMENTATION'] = 'python'\n",
    "    serve()\n"
   ]
  },
  {
   "cell_type": "code",
   "execution_count": null,
   "id": "bf0f4402",
   "metadata": {},
   "outputs": [],
   "source": []
  }
 ],
 "metadata": {
  "kernelspec": {
   "display_name": "Python 3 (ipykernel)",
   "language": "python",
   "name": "python3"
  },
  "language_info": {
   "codemirror_mode": {
    "name": "ipython",
    "version": 3
   },
   "file_extension": ".py",
   "mimetype": "text/x-python",
   "name": "python",
   "nbconvert_exporter": "python",
   "pygments_lexer": "ipython3",
   "version": "3.10.9"
  }
 },
 "nbformat": 4,
 "nbformat_minor": 5
}
